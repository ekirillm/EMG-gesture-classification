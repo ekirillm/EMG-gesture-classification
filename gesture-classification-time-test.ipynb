{
 "cells": [
  {
   "cell_type": "code",
   "execution_count": 9,
   "metadata": {},
   "outputs": [],
   "source": [
    "import numpy as np\n",
    "import pandas as pd\n",
    "from sklearn.model_selection import train_test_split\n",
    "from sklearn import svm\n",
    "from sklearn.neighbors import KNeighborsClassifier\n",
    "from sklearn.linear_model import LogisticRegression\n",
    "from sklearn.ensemble import RandomForestClassifier\n",
    "from sklearn import metrics\n",
    "import random\n",
    "import matplotlib.pyplot as plt\n",
    "import os"
   ]
  },
  {
   "cell_type": "code",
   "execution_count": 10,
   "metadata": {},
   "outputs": [],
   "source": [
    "def samples_num_in_window(frequency, window_size_ms):  \n",
    "    return int(window_size_ms * frequency / 1000)"
   ]
  },
  {
   "cell_type": "code",
   "execution_count": 11,
   "metadata": {},
   "outputs": [],
   "source": [
    "def emg_data_windowing(data, window_size):\n",
    "    data_win = np.copy(data)\n",
    "    data_x = data_win[:,:-1]\n",
    "    data_y = data_win[:,-1]\n",
    "    n, m = data_x.shape\n",
    "    size = n * m\n",
    "    residual_rows_num =  n % window_size\n",
    "    if residual_rows_num != 0:\n",
    "        data_x = data_x[:-residual_rows_num,:]\n",
    "        data_y = data_y[:-residual_rows_num]\n",
    "    data_x = data_x.reshape((-1, m * window_size))\n",
    "    \n",
    "    data_y = data_y.reshape((-1, window_size))\n",
    "    data_y = np.array(list(map(np.mean, data_y)))\n",
    "    \n",
    "    mixed_classes_idxs = np.where(data_y % 1 != 0)\n",
    "    \n",
    "    data_win = np.c_[data_x, data_y]\n",
    "    data_win = np.delete(data_win, mixed_classes_idxs, 0)\n",
    "    \n",
    "    return data_win"
   ]
  },
  {
   "cell_type": "code",
   "execution_count": 12,
   "metadata": {},
   "outputs": [],
   "source": [
    "def read_emg(data_path):\n",
    "    sessions_csv = []\n",
    "    for path, _, files in os.walk(data_path):\n",
    "        for name in files:\n",
    "            sessions_csv.append(os.path.join(path, name))\n",
    "\n",
    "    data = pd.concat([pd.read_csv(file, header = None) for file in sessions_csv]).values\n",
    "    print('input shape', data.shape)\n",
    "    \n",
    "    # reshape data\n",
    "    # one column - one channel\n",
    "    data_x = data[:,:-1]\n",
    "    data_y = data[:,-1]\n",
    "    data_x = data_x.reshape((-1, 8))\n",
    "    data_y = data_y.repeat(8)\n",
    "    data_y = data_y.reshape((-1,1))\n",
    "    data = np.concatenate((data_x, data_y), axis=1)\n",
    "    print('result shape: ', data.shape)\n",
    "\n",
    "    return data"
   ]
  },
  {
   "cell_type": "code",
   "execution_count": 13,
   "metadata": {},
   "outputs": [],
   "source": [
    "from nitime.algorithms.autoregressive import AR_est_LD\n",
    "from sklearn.preprocessing import StandardScaler\n",
    "\n",
    "def autoregression_coefficients(emg, order):\n",
    "    coef = AR_est_LD(emg, order=order)[0]\n",
    "    return coef"
   ]
  },
  {
   "cell_type": "code",
   "execution_count": 14,
   "metadata": {},
   "outputs": [],
   "source": [
    "import math\n",
    "\n",
    "def integrated_absolute_value(segment):\n",
    "    return sum([abs(s) for s in segment])\n",
    "\n",
    "def mean_absolute_value(segment):\n",
    "    return sum([abs(s) for s in segment])/len(segment)\n",
    "\n",
    "def waveform_length(segment):\n",
    "    n = len(segment)\n",
    "    wl = 0\n",
    "    for i in range(1, n):\n",
    "        wl += abs(segment[i] - segment[i-1])\n",
    "    return wl\n",
    "\n",
    "def zero_crossing(segment):\n",
    "    n = len(segment)\n",
    "    zc = 0\n",
    "    for i in range(n - 1):\n",
    "        if segment[i] * segment[i+1] < 0:\n",
    "            zc += 1\n",
    "    return zc\n",
    "\n",
    "def slope_sign_changes(segment):\n",
    "    n = len(segment)\n",
    "    ssc = 0\n",
    "    for i in range(1, n-1):\n",
    "        if segment[i-1] < segment[i] and segment[i] > segment[i+1] or segment[i-1] > segment[i] and segment[i] < segment[i+1]:\n",
    "            ssc += 1\n",
    "    return ssc\n",
    "\n",
    "def root_mean_square(segment):\n",
    "    return math.sqrt(sum([s*s for s in segment])/len(segment))"
   ]
  },
  {
   "cell_type": "code",
   "execution_count": 15,
   "metadata": {},
   "outputs": [],
   "source": [
    "def calculate_features(data_x, channels_num, ar_features=True):\n",
    "    n, m = data_x.shape\n",
    "    features = []\n",
    "    \n",
    "    for channel in range(channels_num):\n",
    "        channel_features = []\n",
    "        \n",
    "        # Calculate MAV, ZC, SSC, WL features\n",
    "        channel_features.append(list(map(mean_absolute_value, data_x[:,channel::channels_num])))\n",
    "        channel_features.append(list(map(waveform_length, data_x[:,channel::channels_num])))\n",
    "        channel_features.append(list(map(zero_crossing, data_x[:,channel::channels_num])))\n",
    "        channel_features.append(list(map(slope_sign_changes, data_x[:,channel::channels_num])))\n",
    "        \n",
    "        if ar_features:\n",
    "            # calculate AR6 coefficients\n",
    "            ar_order = 6\n",
    "            ar_coef = np.array(list(map(lambda x: autoregression_coefficients(x, ar_order), data_x[:,channel::channels_num])))\n",
    "            channel_features += ar_coef.transpose().tolist()\n",
    "        \n",
    "        features += channel_features\n",
    "    \n",
    "    return np.array(features).transpose()"
   ]
  },
  {
   "cell_type": "code",
   "execution_count": 16,
   "metadata": {},
   "outputs": [],
   "source": [
    "def gesture_classification(train, test, input_frequency, window_size_ms, classifier, ar_features=True):\n",
    "    window_samples = samples_num_in_window(input_frequency, window_size_ms)\n",
    "    train_win = emg_data_windowing(train, window_samples)\n",
    "    test_win = emg_data_windowing(test, window_samples)\n",
    "    \n",
    "    train_x = train_win[:,:-1]\n",
    "    train_y = train_win[:,-1].astype('int')\n",
    "    test_x = test_win[:,:-1]\n",
    "    test_y = test_win[:,-1].astype('int') \n",
    "    \n",
    "    train_features = calculate_features(train_x, 8, ar_features)\n",
    "    test_features = calculate_features(test_x, 8, ar_features)\n",
    "    \n",
    "    classifier.fit(train_features, train_y)\n",
    "    pred = classifier.predict(test_features)\n",
    "    \n",
    "    return metrics.accuracy_score(test_y, pred)"
   ]
  },
  {
   "cell_type": "code",
   "execution_count": 17,
   "metadata": {
    "scrolled": true
   },
   "outputs": [
    {
     "name": "stdout",
     "output_type": "stream",
     "text": [
      "data/5sessions/session01\n",
      "input shape (1205, 65)\n",
      "result shape:  (9640, 9)\n",
      "\n",
      "data/5sessions/session02\n",
      "input shape (1201, 65)\n",
      "result shape:  (9608, 9)\n",
      "\n",
      "data/5sessions/session03\n",
      "input shape (1185, 65)\n",
      "result shape:  (9480, 9)\n",
      "\n",
      "data/5sessions/session04\n",
      "input shape (1197, 65)\n",
      "result shape:  (9576, 9)\n",
      "\n",
      "data/5sessions/session05\n",
      "input shape (1214, 65)\n",
      "result shape:  (9712, 9)\n",
      "\n"
     ]
    }
   ],
   "source": [
    "# prepare data\n",
    "random.seed(101)\n",
    "\n",
    "sessions_path = 'data/5sessions/'\n",
    "session_names = list(os.walk(sessions_path))[0][1]\n",
    "\n",
    "sessions = []\n",
    "for session_name in session_names:\n",
    "    current_session = os.path.join(sessions_path, session_name)\n",
    "    print(current_session)\n",
    "    sessions.append(read_emg(current_session))\n",
    "    print()"
   ]
  },
  {
   "cell_type": "code",
   "execution_count": 26,
   "metadata": {},
   "outputs": [
    {
     "data": {
      "image/png": "[encoded data removed]",
      "text/plain": [
       "<Figure size 432x288 with 1 Axes>"
      ]
     },
     "metadata": {
      "needs_background": "light"
     },
     "output_type": "display_data"
    }
   ],
   "source": [
    "results = []\n",
    "all_train_sessions = list(range(1, len(sessions)))\n",
    "\n",
    "clf_rfc = RandomForestClassifier()\n",
    "\n",
    "train = sessions[0]\n",
    "train_X = train[:,:-1]\n",
    "train_y = train[:,-1]\n",
    "scaler = StandardScaler()\n",
    "scaler.fit(train_X)\n",
    "train_X = scaler.transform(train_X)\n",
    "\n",
    "for i in range(1, len(sessions)):\n",
    "    test = sessions[i]\n",
    "    test_X = test[:,:-1]\n",
    "    test_y = test[:,-1]\n",
    "\n",
    "    test_X = scaler.transform(test_X)                \n",
    "    params = {'max_depth': 30, 'max_features': 'auto', 'n_estimators': 200}\n",
    "    clf_rfc.set_params(**params)\n",
    "\n",
    "    clf_rfc.fit(train_X, train_y)\n",
    "    pred = clf_rfc.predict(test_X)\n",
    "    acc = metrics.accuracy_score(test_y, pred)\n",
    "    results.append(acc)\n",
    "\n",
    "plt.plot(['session 2', 'session 3', 'session 4', 'session 5'], results)\n",
    "\n",
    "plt.xlabel('session for test')\n",
    "plt.ylabel('accuracy')\n",
    "plt.show()"
   ]
  }
 ],
 "metadata": {
  "kernelspec": {
   "display_name": "Python 3",
   "language": "python",
   "name": "python3"
  },
  "language_info": {
   "codemirror_mode": {
    "name": "ipython",
    "version": 3
   },
   "file_extension": ".py",
   "mimetype": "text/x-python",
   "name": "python",
   "nbconvert_exporter": "python",
   "pygments_lexer": "ipython3",
   "version": "3.7.5"
  }
 },
 "nbformat": 4,
 "nbformat_minor": 2
}
