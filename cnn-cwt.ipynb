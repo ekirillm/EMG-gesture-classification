{
 "cells": [
  {
   "cell_type": "code",
   "execution_count": 1,
   "metadata": {},
   "outputs": [],
   "source": [
    "import tensorflow as tf\n",
    "from tensorflow.keras import datasets, layers, models\n",
    "from tensorflow.keras.layers import Activation\n",
    "import matplotlib.pyplot as plt\n",
    "import numpy as np\n",
    "import random\n",
    "import os\n",
    "import EMGFeatureExtraction\n"
   ]
  },
  {
   "cell_type": "code",
   "execution_count": 2,
   "metadata": {},
   "outputs": [
    {
     "name": "stdout",
     "output_type": "stream",
     "text": [
      "data/gestures-9/p001\n",
      "data/gestures-9/p001\\session1\n",
      "input shape (2250, 65)\n",
      "result shape:  (18000, 9)\n",
      "data/gestures-9/p001\\session2\n",
      "input shape (2250, 65)\n",
      "result shape:  (18000, 9)\n",
      "data/gestures-9/p001\\session3\n",
      "input shape (2250, 65)\n",
      "result shape:  (18000, 9)\n",
      "\n",
      "data/gestures-9/p002\n",
      "data/gestures-9/p002\\session1\n",
      "input shape (2251, 65)\n",
      "result shape:  (18008, 9)\n",
      "data/gestures-9/p002\\session2\n",
      "input shape (2251, 65)\n",
      "result shape:  (18008, 9)\n",
      "data/gestures-9/p002\\session3\n",
      "input shape (2251, 65)\n",
      "result shape:  (18008, 9)\n",
      "\n",
      "data/gestures-9/p003\n",
      "data/gestures-9/p003\\session1\n",
      "input shape (2251, 65)\n",
      "result shape:  (18008, 9)\n",
      "data/gestures-9/p003\\session2\n",
      "input shape (2251, 65)\n",
      "result shape:  (18008, 9)\n",
      "data/gestures-9/p003\\session3\n",
      "input shape (2251, 65)\n",
      "result shape:  (18008, 9)\n",
      "\n"
     ]
    }
   ],
   "source": [
    "random.seed(101)\n",
    "\n",
    "# prepare data\n",
    "datasets_path = 'data/gestures-9/'\n",
    "datasets = []\n",
    "for dataset_name in list(os.walk(datasets_path))[0][1]:\n",
    "    dataset_path = datasets_path + dataset_name\n",
    "    print(dataset_path)\n",
    "    session_names = list(os.walk(dataset_path))[0][1]\n",
    "    sessions = []\n",
    "    for session_name in session_names:\n",
    "        current_session = os.path.join(dataset_path, session_name)\n",
    "        print(current_session)\n",
    "        sessions.append(EMGFeatureExtraction.read_emg(current_session))\n",
    "    datasets.append(sessions)\n",
    "    print()\n",
    "\n",
    "preprocessed_datasets = []\n",
    "for dataset in datasets:\n",
    "    preprocessed_sessions = []\n",
    "    for session in dataset:\n",
    "        window_samples = EMGFeatureExtraction.samples_num_in_window(200, 200)\n",
    "        session_win = EMGFeatureExtraction.emg_data_windowing(session, window_samples)\n",
    "\n",
    "        session_X = session_win[:,:-1]\n",
    "        session_y = session_win[:,-1].astype('int')\n",
    "\n",
    "#         session_features_X = calculate_features(session_X, 8, True)\n",
    "        # Concatenate X and y\n",
    "        session_features = np.c_[session_X, session_y]\n",
    "        preprocessed_sessions.append(session_features)\n",
    "    preprocessed_datasets.append(preprocessed_sessions)"
   ]
  },
  {
   "cell_type": "code",
   "execution_count": 3,
   "metadata": {
    "scrolled": true
   },
   "outputs": [
    {
     "name": "stdout",
     "output_type": "stream",
     "text": [
      "(450, 320) (450,)\n",
      "(450, 10, 8, 8)\n",
      "(450, 320) (450,)\n",
      "(450, 10, 8, 8)\n",
      "(450, 320) (450,)\n",
      "(450, 10, 8, 8)\n",
      "(900, 10, 8, 8)\n",
      "(900,)\n",
      "(450, 10, 8, 8)\n",
      "(450,)\n"
     ]
    }
   ],
   "source": [
    "channels_num = 8\n",
    "X_sessions_CWT = []\n",
    "y_sessions = []\n",
    "for session in preprocessed_datasets[0]:\n",
    "    X = session[:,:-1]\n",
    "    y = session[:,-1]\n",
    "    print(X.shape, y.shape)\n",
    "    \n",
    "    X_cwt = EMGFeatureExtraction.calculate_CWT(X, channels_num, zoom_factor=0.25)\n",
    "    print(X_cwt.shape)\n",
    "    \n",
    "    X_sessions_CWT.append(X_cwt)\n",
    "    y_sessions.append(y)\n",
    "    \n",
    "X_train = np.concatenate((X_sessions_CWT[0], X_sessions_CWT[1]), axis=0)\n",
    "y_train = np.concatenate((y_sessions[0], y_sessions[1]), axis=0)\n",
    "X_test = X_sessions_CWT[2]\n",
    "y_test = y_sessions[2]\n",
    "print(X_train.shape)\n",
    "print(y_train.shape)\n",
    "print(X_test.shape)\n",
    "print(y_test.shape)"
   ]
  },
  {
   "cell_type": "code",
   "execution_count": 4,
   "metadata": {},
   "outputs": [
    {
     "name": "stdout",
     "output_type": "stream",
     "text": [
      "WARNING:tensorflow:From c:\\users\\ekm\\appdata\\local\\programs\\python\\python37\\lib\\site-packages\\tensorflow_core\\python\\ops\\resource_variable_ops.py:1630: calling BaseResourceVariable.__init__ (from tensorflow.python.ops.resource_variable_ops) with constraint is deprecated and will be removed in a future version.\n",
      "Instructions for updating:\n",
      "If using Keras pass *_constraint arguments to layers.\n"
     ]
    }
   ],
   "source": [
    "model = tf.keras.Sequential()\n",
    "model.add(layers.Conv2D(16, (3, 3), input_shape=(10, 8, 8), use_bias=False))\n",
    "model.add(layers.BatchNormalization())\n",
    "model.add(layers.Activation(\"relu\"))\n",
    "model.add(layers.MaxPooling2D((2, 2)))\n",
    "model.add(layers.Dropout(0.25))\n",
    "model.add(layers.Conv2D(32, (2, 2), use_bias=False))\n",
    "model.add(layers.BatchNormalization())\n",
    "model.add(layers.Activation(\"relu\"))\n",
    "model.add(layers.Dropout(0.25))\n",
    "model.add(layers.Conv2D(32, (2, 2), use_bias=False))\n",
    "model.add(layers.BatchNormalization())\n",
    "model.add(layers.Activation(\"relu\"))\n",
    "\n",
    "model.add(layers.Flatten())\n",
    "model.add(layers.Dense(32, use_bias=False))\n",
    "model.add(layers.BatchNormalization())\n",
    "model.add(Activation(\"relu\"))\n",
    "model.add(layers.Dense(9, activation='softmax'))"
   ]
  },
  {
   "cell_type": "code",
   "execution_count": 5,
   "metadata": {},
   "outputs": [
    {
     "name": "stdout",
     "output_type": "stream",
     "text": [
      "Model: \"sequential\"\n",
      "_________________________________________________________________\n",
      "Layer (type)                 Output Shape              Param #   \n",
      "=================================================================\n",
      "conv2d (Conv2D)              (None, 8, 6, 16)          1152      \n",
      "_________________________________________________________________\n",
      "batch_normalization (BatchNo (None, 8, 6, 16)          64        \n",
      "_________________________________________________________________\n",
      "activation (Activation)      (None, 8, 6, 16)          0         \n",
      "_________________________________________________________________\n",
      "max_pooling2d (MaxPooling2D) (None, 4, 3, 16)          0         \n",
      "_________________________________________________________________\n",
      "dropout (Dropout)            (None, 4, 3, 16)          0         \n",
      "_________________________________________________________________\n",
      "conv2d_1 (Conv2D)            (None, 3, 2, 32)          2048      \n",
      "_________________________________________________________________\n",
      "batch_normalization_1 (Batch (None, 3, 2, 32)          128       \n",
      "_________________________________________________________________\n",
      "activation_1 (Activation)    (None, 3, 2, 32)          0         \n",
      "_________________________________________________________________\n",
      "dropout_1 (Dropout)          (None, 3, 2, 32)          0         \n",
      "_________________________________________________________________\n",
      "conv2d_2 (Conv2D)            (None, 2, 1, 32)          4096      \n",
      "_________________________________________________________________\n",
      "batch_normalization_2 (Batch (None, 2, 1, 32)          128       \n",
      "_________________________________________________________________\n",
      "activation_2 (Activation)    (None, 2, 1, 32)          0         \n",
      "_________________________________________________________________\n",
      "flatten (Flatten)            (None, 64)                0         \n",
      "_________________________________________________________________\n",
      "dense (Dense)                (None, 32)                2048      \n",
      "_________________________________________________________________\n",
      "batch_normalization_3 (Batch (None, 32)                128       \n",
      "_________________________________________________________________\n",
      "activation_3 (Activation)    (None, 32)                0         \n",
      "_________________________________________________________________\n",
      "dense_1 (Dense)              (None, 9)                 297       \n",
      "=================================================================\n",
      "Total params: 10,089\n",
      "Trainable params: 9,865\n",
      "Non-trainable params: 224\n",
      "_________________________________________________________________\n"
     ]
    }
   ],
   "source": [
    "model.summary()"
   ]
  },
  {
   "cell_type": "code",
   "execution_count": 6,
   "metadata": {
    "scrolled": true
   },
   "outputs": [],
   "source": [
    "model.compile(optimizer=tf.keras.optimizers.Adam(learning_rate=1e-3),\n",
    "              loss=tf.keras.losses.SparseCategoricalCrossentropy(from_logits=True),\n",
    "              metrics=['accuracy'])\n",
    "\n",
    "history = model.fit(X_train, y_train, epochs=300, \n",
    "                    validation_data=(X_test, y_test), verbose=0)"
   ]
  },
  {
   "cell_type": "code",
   "execution_count": 7,
   "metadata": {},
   "outputs": [
    {
     "name": "stdout",
     "output_type": "stream",
     "text": [
      "450/450 - 0s - loss: 1.6026 - acc: 0.7733\n"
     ]
    },
    {
     "data": {
      "image/png": "[encoded data removed]",
      "text/plain": [
       "<Figure size 432x288 with 1 Axes>"
      ]
     },
     "metadata": {
      "needs_background": "light"
     },
     "output_type": "display_data"
    }
   ],
   "source": [
    "plt.plot(history.history['acc'], label='accuracy')\n",
    "plt.plot(history.history['val_acc'], label = 'val_accuracy')\n",
    "plt.xlabel('Epoch')\n",
    "plt.ylabel('Accuracy')\n",
    "plt.ylim([0.4, 1])\n",
    "plt.legend(loc='lower right')\n",
    "\n",
    "test_loss, test_acc = model.evaluate(X_test, y_test, verbose=2)"
   ]
  },
  {
   "cell_type": "code",
   "execution_count": 8,
   "metadata": {},
   "outputs": [
    {
     "name": "stdout",
     "output_type": "stream",
     "text": [
      "0.7733333\n"
     ]
    }
   ],
   "source": [
    "print(test_acc)"
   ]
  }
 ],
 "metadata": {
  "kernelspec": {
   "display_name": "Python 3",
   "language": "python",
   "name": "python3"
  },
  "language_info": {
   "codemirror_mode": {
    "name": "ipython",
    "version": 3
   },
   "file_extension": ".py",
   "mimetype": "text/x-python",
   "name": "python",
   "nbconvert_exporter": "python",
   "pygments_lexer": "ipython3",
   "version": "3.7.5"
  }
 },
 "nbformat": 4,
 "nbformat_minor": 2
}
