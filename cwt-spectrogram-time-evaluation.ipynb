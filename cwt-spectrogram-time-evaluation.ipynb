{
 "cells": [
  {
   "cell_type": "code",
   "execution_count": 1,
   "metadata": {},
   "outputs": [],
   "source": [
    "import numpy as np\n",
    "import pandas as pd\n",
    "import random\n",
    "import matplotlib.pyplot as plt\n",
    "import os\n",
    "import warnings\n",
    "import time\n",
    "import EMGFeatureExtraction\n",
    "warnings.filterwarnings('ignore')"
   ]
  },
  {
   "cell_type": "code",
   "execution_count": 2,
   "metadata": {
    "scrolled": true
   },
   "outputs": [
    {
     "name": "stdout",
     "output_type": "stream",
     "text": [
      "data/gestures-9/p001\n",
      "data/gestures-9/p001\\session1\n",
      "input shape (2250, 65)\n",
      "result shape:  (18000, 9)\n",
      "data/gestures-9/p001\\session2\n",
      "input shape (2250, 65)\n",
      "result shape:  (18000, 9)\n",
      "data/gestures-9/p001\\session3\n",
      "input shape (2250, 65)\n",
      "result shape:  (18000, 9)\n",
      "\n",
      "data/gestures-9/p002\n",
      "data/gestures-9/p002\\session1\n",
      "input shape (2251, 65)\n",
      "result shape:  (18008, 9)\n",
      "data/gestures-9/p002\\session2\n",
      "input shape (2251, 65)\n",
      "result shape:  (18008, 9)\n",
      "data/gestures-9/p002\\session3\n",
      "input shape (2251, 65)\n",
      "result shape:  (18008, 9)\n",
      "\n",
      "data/gestures-9/p003\n",
      "data/gestures-9/p003\\session1\n",
      "input shape (2251, 65)\n",
      "result shape:  (18008, 9)\n",
      "data/gestures-9/p003\\session2\n",
      "input shape (2251, 65)\n",
      "result shape:  (18008, 9)\n",
      "data/gestures-9/p003\\session3\n",
      "input shape (2251, 65)\n",
      "result shape:  (18008, 9)\n",
      "\n"
     ]
    }
   ],
   "source": [
    "random.seed(101)\n",
    "\n",
    "# prepare data\n",
    "datasets_path = 'data/gestures-9/'\n",
    "datasets = []\n",
    "for dataset_name in list(os.walk(datasets_path))[0][1]:\n",
    "    dataset_path = datasets_path + dataset_name\n",
    "    print(dataset_path)\n",
    "    session_names = list(os.walk(dataset_path))[0][1]\n",
    "    sessions = []\n",
    "    for session_name in session_names:\n",
    "        current_session = os.path.join(dataset_path, session_name)\n",
    "        print(current_session)\n",
    "        sessions.append(EMGFeatureExtraction.read_emg(current_session))\n",
    "    datasets.append(sessions)\n",
    "    print()\n",
    "\n",
    "preprocessed_datasets = []\n",
    "for dataset in datasets:\n",
    "    preprocessed_sessions = []\n",
    "    for session in dataset:\n",
    "        window_samples = EMGFeatureExtraction.samples_num_in_window(200, 200)\n",
    "        session_win = EMGFeatureExtraction.emg_data_windowing(session, window_samples)\n",
    "\n",
    "        session_X = session_win[:,:-1]\n",
    "        session_y = session_win[:,-1].astype('int')\n",
    "\n",
    "        session_features = np.c_[session_X, session_y]\n",
    "        preprocessed_sessions.append(session_features)\n",
    "    preprocessed_datasets.append(preprocessed_sessions)"
   ]
  },
  {
   "cell_type": "code",
   "execution_count": 3,
   "metadata": {},
   "outputs": [
    {
     "name": "stdout",
     "output_type": "stream",
     "text": [
      "mean time = 0.00201\n"
     ]
    }
   ],
   "source": [
    "# time-domain features calculation time for one sample\n",
    "session = preprocessed_datasets[0][0]\n",
    "td_time = []\n",
    "channels_num = 8\n",
    "for sample in session:\n",
    "    start_time = time.process_time()\n",
    "    \n",
    "    features = []\n",
    "    for channel in range(8):\n",
    "        channel_features = []\n",
    "        channel_features.append(EMGFeatureExtraction.mean_absolute_value(sample[channel::channels_num]))\n",
    "        channel_features.append(EMGFeatureExtraction.waveform_length(sample[channel::channels_num]))\n",
    "        channel_features.append(EMGFeatureExtraction.zero_crossing(sample[channel::channels_num]))\n",
    "        channel_features.append(EMGFeatureExtraction.slope_sign_changes(sample[channel::channels_num]))\n",
    "        channel_features.append(EMGFeatureExtraction.root_mean_square(sample[channel::channels_num]))\n",
    "        \n",
    "        ar_order = 6\n",
    "        ar_coef = np.array(EMGFeatureExtraction.autoregression_coefficients(sample[channel::channels_num], ar_order))\n",
    "        channel_features += ar_coef.transpose().tolist()\n",
    "        \n",
    "        features += channel_features\n",
    "    features = np.array(features).transpose()\n",
    "                                \n",
    "    td_time.append(time.process_time() - start_time)\n",
    "\n",
    "print(f'mean time = {np.mean(td_time):.5f}')"
   ]
  },
  {
   "cell_type": "code",
   "execution_count": 4,
   "metadata": {},
   "outputs": [
    {
     "name": "stdout",
     "output_type": "stream",
     "text": [
      "mean time = 0.01479\n"
     ]
    }
   ],
   "source": [
    "# cwt calculation time for one sample\n",
    "session = preprocessed_datasets[0][0]\n",
    "cwt_time = []\n",
    "channels_num = 8\n",
    "for sample in session:\n",
    "    start_time = time.process_time()\n",
    "    \n",
    "    features = []\n",
    "    for channel in range(8):\n",
    "        coef = EMGFeatureExtraction.calculate_CWT_vector(sample[channel::channels_num], 0.25)\n",
    "        features.append(np.array(coef).transpose())\n",
    "    features = np.array(features).transpose()\n",
    "    \n",
    "    cwt_time.append(time.process_time() - start_time)\n",
    "\n",
    "print(f'mean time = {np.mean(cwt_time):.5f}')"
   ]
  },
  {
   "cell_type": "code",
   "execution_count": 5,
   "metadata": {},
   "outputs": [
    {
     "name": "stdout",
     "output_type": "stream",
     "text": [
      "mean time = 0.00125\n"
     ]
    }
   ],
   "source": [
    "# spectrogram calculation time for one sample\n",
    "session = preprocessed_datasets[0][0]\n",
    "spec_time = []\n",
    "channels_num = 8\n",
    "for sample in session:\n",
    "    start_time = time.process_time()\n",
    "    \n",
    "    features = []\n",
    "    for channel in range(8):\n",
    "        coef = EMGFeatureExtraction.spectrogram_vector(sample[channel::channels_num], 200, npserseg=21, noverlap=18)\n",
    "        features.append(np.array(coef).transpose())\n",
    "    features = np.array(features).transpose()\n",
    "    \n",
    "    spec_time.append(time.process_time() - start_time)\n",
    "\n",
    "print(f'mean time = {np.mean(spec_time):.5f}')"
   ]
  }
 ],
 "metadata": {
  "kernelspec": {
   "display_name": "Python 3",
   "language": "python",
   "name": "python3"
  },
  "language_info": {
   "codemirror_mode": {
    "name": "ipython",
    "version": 3
   },
   "file_extension": ".py",
   "mimetype": "text/x-python",
   "name": "python",
   "nbconvert_exporter": "python",
   "pygments_lexer": "ipython3",
   "version": "3.7.5"
  }
 },
 "nbformat": 4,
 "nbformat_minor": 2
}
